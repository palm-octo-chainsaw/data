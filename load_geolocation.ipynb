{
 "cells": [
  {
   "cell_type": "code",
   "execution_count": 18,
   "metadata": {},
   "outputs": [
    {
     "name": "stdout",
     "output_type": "stream",
     "text": [
      "The dotenv extension is already loaded. To reload it, use:\n",
      "  %reload_ext dotenv\n"
     ]
    }
   ],
   "source": [
    "%load_ext dotenv\n",
    "%dotenv\n",
    "\n",
    "from config import *"
   ]
  },
  {
   "cell_type": "code",
   "execution_count": 17,
   "metadata": {},
   "outputs": [],
   "source": [
    "from config import *"
   ]
  },
  {
   "cell_type": "code",
   "execution_count": 19,
   "metadata": {},
   "outputs": [],
   "source": [
    "def load_geolocation_data(json: str) -> pd.DataFrame:\n",
    "    data = pd.read_json(json)\n",
    "    cleaned_data = pd.DataFrame()\n",
    "\n",
    "    cleaned_data['id'] = data['id']\n",
    "    cleaned_data['country'] = data['country']\n",
    "    cleaned_data['region'] = data.apply(lambda row: row['country'] if pd.isnull(row['region']) else row['region'], axis=1)\n",
    "    cleaned_data['location'] = data['location']\n",
    "    cleaned_data['timezone'] = data['timezone']\n",
    "\n",
    "    normalize_loc = pd.json_normalize(cleaned_data['location'])\n",
    "\n",
    "    cleaned_data[[col for col in normalize_loc.columns]] = normalize_loc\n",
    "    cleaned_data.drop(columns=['location'], inplace=True, axis=1)\n",
    "\n",
    "    return cleaned_data"
   ]
  },
  {
   "cell_type": "code",
   "execution_count": 20,
   "metadata": {},
   "outputs": [],
   "source": [
    "data = load_geolocation_data('full.json')\n",
    "table_name = 'geolocations'\n",
    "engine = create_engine(connection_string)\n",
    "data.to_sql(table_name, engine, if_exists='replace', index=False)\n",
    "engine.dispose()"
   ]
  }
 ],
 "metadata": {
  "kernelspec": {
   "display_name": "data-IX9ExTD-",
   "language": "python",
   "name": "python3"
  },
  "language_info": {
   "codemirror_mode": {
    "name": "ipython",
    "version": 3
   },
   "file_extension": ".py",
   "mimetype": "text/x-python",
   "name": "python",
   "nbconvert_exporter": "python",
   "pygments_lexer": "ipython3",
   "version": "3.12.3"
  }
 },
 "nbformat": 4,
 "nbformat_minor": 2
}
