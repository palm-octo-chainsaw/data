{
 "cells": [
  {
   "cell_type": "code",
   "execution_count": 7,
   "metadata": {},
   "outputs": [
    {
     "name": "stdout",
     "output_type": "stream",
     "text": [
      "The dotenv extension is already loaded. To reload it, use:\n",
      "  %reload_ext dotenv\n"
     ]
    }
   ],
   "source": [
    "%load_ext dotenv\n",
    "%dotenv\n",
    "import logging\n",
    "\n",
    "from config import pd, create_engine, DB_CONNECTION_STRING"
   ]
  },
  {
   "cell_type": "code",
   "execution_count": 9,
   "metadata": {},
   "outputs": [],
   "source": [
    "for handler in logging.root.handlers[:]:\n",
    "    logging.root.removeHandler(handler)\n",
    "\n",
    "logging.basicConfig(\n",
    "    level=logging.DEBUG,\n",
    "    format='%(asctime)s - %(levelname)s - %(message)s',\n",
    "    handlers=[\n",
    "        logging.FileHandler(\"identifiers.log\", encoding=\"utf-8\"),\n",
    "        logging.StreamHandler() \n",
    "    ]\n",
    ")"
   ]
  },
  {
   "cell_type": "code",
   "execution_count": 3,
   "metadata": {},
   "outputs": [],
   "source": [
    "TABLE_NAME = 'identifiers'\n",
    "COLUMN_TO_NORMALIZE = 'identifiers'\n",
    "COLUMNS_TO_INTEGER = ['monthly.start', 'monthly.end', 'normals.start', 'normals.end']\n",
    "COLUMNS_TO_DATETIME = ['model.start', 'model.end', 'hourly.start', 'hourly.end', 'daily.start', 'daily.end']\n",
    "COLUMNS_TO_DROP = ['name', 'inventory', 'country', 'location', 'region', 'timezone']"
   ]
  },
  {
   "cell_type": "code",
   "execution_count": 10,
   "metadata": {},
   "outputs": [],
   "source": [
    "def main():\n",
    "    logging.info('Starting ETL...')\n",
    "\n",
    "    data = pd.read_json('full.json')\n",
    "    data.drop(columns=COLUMNS_TO_DROP, inplace=True)\n",
    "    logging.info('Columns droped...')\n",
    "\n",
    "    normal = pd.json_normalize(data['identifiers'])\n",
    "    data.drop(columns=COLUMN_TO_NORMALIZE, inplace=True)\n",
    "    data[[column for column in normal]] = normal\n",
    "    logging.info(f'Normalized [{COLUMN_TO_NORMALIZE}] column...')\n",
    "\n",
    "    logging.info('Loading transformed data...')\n",
    "    # engine = create_engine(DB_CONNECTION_STRING)\n",
    "    # data.to_sql(TABLE_NAME, engine, if_exists='replace', index=False)\n",
    "    # engine.dispose()\n",
    "    logging.info('Successfuly ran ETL...')"
   ]
  },
  {
   "cell_type": "code",
   "execution_count": 11,
   "metadata": {},
   "outputs": [
    {
     "name": "stderr",
     "output_type": "stream",
     "text": [
      "2024-11-08 23:20:12,692 - INFO - Starting ETL...\n",
      "2024-11-08 23:20:12,888 - INFO - Columns droped...\n",
      "2024-11-08 23:20:12,966 - INFO - Normalized [identifiers] column...\n",
      "2024-11-08 23:20:12,966 - INFO - Loading transformed data...\n",
      "2024-11-08 23:20:12,967 - INFO - Successfuly ran ETL...\n"
     ]
    }
   ],
   "source": [
    "if __name__ == '__main__':\n",
    "    main()"
   ]
  }
 ],
 "metadata": {
  "kernelspec": {
   "display_name": "data-IX9ExTD-",
   "language": "python",
   "name": "python3"
  },
  "language_info": {
   "codemirror_mode": {
    "name": "ipython",
    "version": 3
   },
   "file_extension": ".py",
   "mimetype": "text/x-python",
   "name": "python",
   "nbconvert_exporter": "python",
   "pygments_lexer": "ipython3",
   "version": "3.12.3"
  }
 },
 "nbformat": 4,
 "nbformat_minor": 2
}
