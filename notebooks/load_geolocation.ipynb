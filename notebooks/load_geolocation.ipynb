{
 "cells": [
  {
   "cell_type": "code",
   "execution_count": 3,
   "metadata": {},
   "outputs": [
    {
     "name": "stdout",
     "output_type": "stream",
     "text": [
      "The dotenv extension is already loaded. To reload it, use:\n",
      "  %reload_ext dotenv\n"
     ]
    }
   ],
   "source": [
    "%load_ext dotenv\n",
    "%dotenv\n",
    "\n",
    "from config import pd, create_engine, DB_CONNECTION_STRING"
   ]
  },
  {
   "cell_type": "code",
   "execution_count": 4,
   "metadata": {},
   "outputs": [],
   "source": [
    "def load_geolocation_data(json: str) -> pd.DataFrame:\n",
    "    data = pd.read_json(json)\n",
    "    cleaned_data = pd.DataFrame()\n",
    "\n",
    "    cleaned_data['id'] = data['id']\n",
    "    cleaned_data['country'] = data['country']\n",
    "    cleaned_data['region'] = data.apply(lambda row: row['country'] if pd.isnull(row['region']) else row['region'], axis=1)\n",
    "    cleaned_data['location'] = data['location']\n",
    "    cleaned_data['timezone'] = data['timezone']\n",
    "\n",
    "    normalize_loc = pd.json_normalize(cleaned_data['location'])\n",
    "\n",
    "    cleaned_data[[col for col in normalize_loc.columns]] = normalize_loc\n",
    "    cleaned_data.drop(columns=['location'], inplace=True, axis=1)\n",
    "\n",
    "    return cleaned_data"
   ]
  },
  {
   "cell_type": "code",
   "execution_count": 3,
   "metadata": {},
   "outputs": [
    {
     "ename": "NameError",
     "evalue": "name 'ENGINE' is not defined",
     "output_type": "error",
     "traceback": [
      "\u001b[0;31m---------------------------------------------------------------------------\u001b[0m",
      "\u001b[0;31mNameError\u001b[0m                                 Traceback (most recent call last)",
      "Cell \u001b[0;32mIn[3], line 4\u001b[0m\n\u001b[1;32m      2\u001b[0m TABLE_NAME \u001b[38;5;241m=\u001b[39m \u001b[38;5;124m'\u001b[39m\u001b[38;5;124mgeolocations\u001b[39m\u001b[38;5;124m'\u001b[39m\n\u001b[1;32m      3\u001b[0m engine \u001b[38;5;241m=\u001b[39m create_engine(DB_CONNECTION_STRING)\n\u001b[0;32m----> 4\u001b[0m data\u001b[38;5;241m.\u001b[39mto_sql(TABLE_NAME, \u001b[43mENGINE\u001b[49m, if_exists\u001b[38;5;241m=\u001b[39m\u001b[38;5;124m'\u001b[39m\u001b[38;5;124mreplace\u001b[39m\u001b[38;5;124m'\u001b[39m, index\u001b[38;5;241m=\u001b[39m\u001b[38;5;28;01mFalse\u001b[39;00m)\n\u001b[1;32m      5\u001b[0m engine\u001b[38;5;241m.\u001b[39mdispose()\n",
      "\u001b[0;31mNameError\u001b[0m: name 'ENGINE' is not defined"
     ]
    }
   ],
   "source": [
    "data = load_geolocation_data('full.json')\n",
    "TABLE_NAME = 'geolocations'\n",
    "engine = create_engine(DB_CONNECTION_STRING)\n",
    "data.to_sql(TABLE_NAME, engine, if_exists='replace', index=False)\n",
    "engine.dispose()"
   ]
  }
 ],
 "metadata": {
  "kernelspec": {
   "display_name": "data-IX9ExTD-",
   "language": "python",
   "name": "python3"
  },
  "language_info": {
   "codemirror_mode": {
    "name": "ipython",
    "version": 3
   },
   "file_extension": ".py",
   "mimetype": "text/x-python",
   "name": "python",
   "nbconvert_exporter": "python",
   "pygments_lexer": "ipython3",
   "version": "3.12.3"
  }
 },
 "nbformat": 4,
 "nbformat_minor": 2
}
