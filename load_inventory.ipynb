{
 "cells": [
  {
   "cell_type": "code",
   "execution_count": 69,
   "metadata": {},
   "outputs": [
    {
     "name": "stdout",
     "output_type": "stream",
     "text": [
      "The dotenv extension is already loaded. To reload it, use:\n",
      "  %reload_ext dotenv\n"
     ]
    }
   ],
   "source": [
    "%load_ext dotenv\n",
    "%dotenv\n",
    "\n",
    "from config import *"
   ]
  },
  {
   "cell_type": "code",
   "execution_count": 65,
   "metadata": {},
   "outputs": [],
   "source": [
    "table_name = 'station_names'\n",
    "columns_to_integer = ['monthly.start', 'monthly.end', 'normals.start', 'normals.end']\n",
    "columns_to_date = ['model.start', 'model.end', 'hourly.start', 'hourly.end', 'daily.start', 'daily.end']\n",
    "columns_to_drop = ['name', 'identifiers', 'country', 'location', 'region', 'timezone']"
   ]
  },
  {
   "cell_type": "code",
   "execution_count": 66,
   "metadata": {},
   "outputs": [],
   "source": [
    "class Modify:\n",
    "    def __init__(\n",
    "            self,\n",
    "            dataframe: pd.DataFrame,\n",
    "        ) -> None:\n",
    "        self.dataframe = dataframe\n",
    "\n",
    "    def __call__(self) -> pd.DataFrame:\n",
    "        return self.dataframe\n",
    "\n",
    "    def drop_columns(self, columns: list) -> pd.DataFrame:\n",
    "        self.dataframe.drop(columns, inplace=True, axis=1)\n",
    "        return self.dataframe\n",
    "\n",
    "    def normalize(self, column: str) -> pd.DataFrame:\n",
    "        normal = pd.json_normalize(self.dataframe[column])\n",
    "        self.dataframe.drop(column, axis=1, inplace=True)\n",
    "        self.dataframe[[col for col in normal.columns]] = normal\n",
    "        return self.dataframe\n",
    "\n",
    "    def convert_to_integer(self, columns_to_convert: list) -> pd.DataFrame:\n",
    "        self.dataframe[columns_to_convert] = self.dataframe[columns_to_convert].apply(lambda col: col.astype('Int64'))\n",
    "        return self.dataframe\n",
    "\n",
    "    def convert_to_datetime(self, columns_to_convert: list) -> pd.DataFrame:\n",
    "        self.dataframe[columns_to_convert] = self.dataframe[columns_to_convert].apply(pd.to_datetime, errors='coerce')\n",
    "        return self.dataframe\n",
    "    \n",
    "    def load_to_sql(self, connection_string: str, db_table: str) -> str:\n",
    "        engine = create_engine(connection_string)\n",
    "        self.dataframe.to_sql(db_table, engine, if_exists='replace', index=False)\n",
    "        engine.dispose()\n",
    "        return f\"Successfuly loaded {len(self.dataframe)} row to [{db_table}] table.\"\n"
   ]
  },
  {
   "cell_type": "code",
   "execution_count": 67,
   "metadata": {},
   "outputs": [
    {
     "data": {
      "text/plain": [
       "'Successfuly loaded 22104 row to [inventory] table.'"
      ]
     },
     "execution_count": 67,
     "metadata": {},
     "output_type": "execute_result"
    }
   ],
   "source": [
    "data = Modify(\n",
    "    dataframe=pd.read_json('full.json'),\n",
    ")\n",
    "data.drop_columns(columns_to_drop)\n",
    "data.normalize('inventory')\n",
    "data.convert_to_integer(columns_to_integer)\n",
    "data.convert_to_datetime(columns_to_date)\n",
    "data.load_to_sql(connection_string, 'inventory')\n"
   ]
  }
 ],
 "metadata": {
  "kernelspec": {
   "display_name": "data-IX9ExTD-",
   "language": "python",
   "name": "python3"
  },
  "language_info": {
   "codemirror_mode": {
    "name": "ipython",
    "version": 3
   },
   "file_extension": ".py",
   "mimetype": "text/x-python",
   "name": "python",
   "nbconvert_exporter": "python",
   "pygments_lexer": "ipython3",
   "version": "3.12.3"
  }
 },
 "nbformat": 4,
 "nbformat_minor": 2
}
