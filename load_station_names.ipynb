{
 "cells": [
  {
   "cell_type": "code",
   "execution_count": 2,
   "metadata": {},
   "outputs": [],
   "source": [
    "%load_ext dotenv\n",
    "%dotenv\n",
    "\n",
    "from config import *"
   ]
  },
  {
   "cell_type": "code",
   "execution_count": 3,
   "metadata": {},
   "outputs": [],
   "source": [
    "def normalize_name(data: pd.DataFrame) -> pd.DataFrame:\n",
    "    normalize_name = pd.json_normalize(data['name'])\n",
    "    normalize_name = normalize_name.where(pd.notna(normalize_name), None)\n",
    "    data[[col for col in normalize_name]] = normalize_name\n",
    "    return data\n",
    "\n",
    "def normalize_identifiers(data: pd.DataFrame) -> pd.DataFrame:\n",
    "    normalize = pd.json_normalize(data['identifiers'])\n",
    "    data[[col for col in normalize]] = normalize\n",
    "    return data\n",
    "\n",
    "def clean_data(data: pd.DataFrame, columns_to_drop: list) -> pd.DataFrame:\n",
    "    return data.drop(columns=columns_to_drop, inplace=True, axis=1)"
   ]
  },
  {
   "cell_type": "code",
   "execution_count": 4,
   "metadata": {},
   "outputs": [],
   "source": [
    "COLUMNS_TO_DROP = ['identifiers', 'location', 'timezone', 'inventory', 'name', 'country', 'region']\n",
    "TABLE_NAME = 'station_names'\n",
    "\n",
    "data=pd.read_json('full.json')\n",
    "\n",
    "normalize_name(data)\n",
    "clean_data(data, COLUMNS_TO_DROP)\n"
   ]
  },
  {
   "cell_type": "code",
   "execution_count": 9,
   "metadata": {},
   "outputs": [],
   "source": [
    "engine = create_engine(DB_CONNECTION_STRING)\n",
    "data.to_sql(TABLE_NAME, engine, if_exists='replace', index=False)\n",
    "engine.dispose()"
   ]
  }
 ],
 "metadata": {
  "kernelspec": {
   "display_name": "data-IX9ExTD-",
   "language": "python",
   "name": "python3"
  },
  "language_info": {
   "codemirror_mode": {
    "name": "ipython",
    "version": 3
   },
   "file_extension": ".py",
   "mimetype": "text/x-python",
   "name": "python",
   "nbconvert_exporter": "python",
   "pygments_lexer": "ipython3",
   "version": "3.12.3"
  }
 },
 "nbformat": 4,
 "nbformat_minor": 2
}
